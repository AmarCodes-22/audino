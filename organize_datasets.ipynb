{
 "cells": [
  {
   "cell_type": "markdown",
   "metadata": {},
   "source": [
    "# Setup"
   ]
  },
  {
   "cell_type": "markdown",
   "metadata": {},
   "source": [
    "## sanity check"
   ]
  },
  {
   "cell_type": "code",
   "execution_count": 1,
   "metadata": {},
   "outputs": [
    {
     "name": "stdout",
     "output_type": "stream",
     "text": [
      "/home/amar/projects/audino/env/bin/python\n"
     ]
    }
   ],
   "source": [
    "import sys \n",
    "print(sys.executable)"
   ]
  },
  {
   "cell_type": "code",
   "execution_count": 2,
   "metadata": {},
   "outputs": [
    {
     "name": "stdout",
     "output_type": "stream",
     "text": [
      "/home/amar/projects/audino/env/bin/python\n"
     ]
    }
   ],
   "source": [
    "! which python"
   ]
  },
  {
   "cell_type": "code",
   "execution_count": 3,
   "metadata": {},
   "outputs": [
    {
     "name": "stdout",
     "output_type": "stream",
     "text": [
      "/home/amar/projects/audino/env/bin/pip\n"
     ]
    }
   ],
   "source": [
    "! which pip"
   ]
  },
  {
   "cell_type": "markdown",
   "metadata": {},
   "source": [
    "## imports"
   ]
  },
  {
   "cell_type": "code",
   "execution_count": 1,
   "metadata": {},
   "outputs": [],
   "source": [
    "import os\n",
    "from pprint import pprint\n",
    "\n",
    "import IPython.display as ipd\n",
    "from IPython.core.display import display\n",
    "import pandas as pd\n",
    "\n",
    "from pkgs.utils import config_system"
   ]
  },
  {
   "cell_type": "markdown",
   "metadata": {},
   "source": [
    "## load configs"
   ]
  },
  {
   "cell_type": "code",
   "execution_count": 2,
   "metadata": {},
   "outputs": [
    {
     "name": "stdout",
     "output_type": "stream",
     "text": [
      "{'audio_config_file': '/home/amar/projects/audino/configs/audio.yml',\n",
      " 'books_config_file': '/home/amar/projects/audino/configs/books.yml',\n",
      " 'configs_dir': '/home/amar/projects/audino/configs',\n",
      " 'data_dir': '/home/amar/projects/audino/data',\n",
      " 'datasets_dir': '/home/amar/projects/audino/datasets',\n",
      " 'firebase_config_file': '/home/amar/projects/audino/configs/firebase_config.yml',\n",
      " 'paths_config_file': '/home/amar/projects/audino/configs/paths.yml',\n",
      " 'project_root': '/home/amar/projects/audino',\n",
      " 'summary_config_file': '/home/amar/projects/audino/configs/summary.yml'}\n"
     ]
    }
   ],
   "source": [
    "paths_dict = config_system.load_paths_config()\n",
    "pprint(paths_dict)"
   ]
  },
  {
   "cell_type": "markdown",
   "metadata": {},
   "source": [
    "# Organizing datasets"
   ]
  },
  {
   "cell_type": "code",
   "execution_count": 3,
   "metadata": {},
   "outputs": [
    {
     "data": {
      "text/plain": [
       "'/home/amar/projects/audino/datasets'"
      ]
     },
     "execution_count": 3,
     "metadata": {},
     "output_type": "execute_result"
    }
   ],
   "source": [
    "datasets_dir = paths_dict['datasets_dir']\n",
    "datasets_dir"
   ]
  },
  {
   "cell_type": "code",
   "execution_count": 4,
   "metadata": {},
   "outputs": [
    {
     "name": "stdout",
     "output_type": "stream",
     "text": [
      "There are 5 directories and 4 files in /home/amar/projects/audino/datasets\n",
      "There are 24 directories and 0 files in /home/amar/projects/audino/datasets/RAVDESS\n",
      "There are 0 directories and 60 files in /home/amar/projects/audino/datasets/RAVDESS/Actor_13\n",
      "There are 0 directories and 60 files in /home/amar/projects/audino/datasets/RAVDESS/Actor_18\n",
      "There are 0 directories and 60 files in /home/amar/projects/audino/datasets/RAVDESS/Actor_07\n",
      "There are 0 directories and 60 files in /home/amar/projects/audino/datasets/RAVDESS/Actor_02\n",
      "There are 0 directories and 60 files in /home/amar/projects/audino/datasets/RAVDESS/Actor_05\n",
      "There are 0 directories and 60 files in /home/amar/projects/audino/datasets/RAVDESS/Actor_12\n",
      "There are 0 directories and 60 files in /home/amar/projects/audino/datasets/RAVDESS/Actor_14\n",
      "There are 0 directories and 60 files in /home/amar/projects/audino/datasets/RAVDESS/Actor_17\n",
      "There are 0 directories and 60 files in /home/amar/projects/audino/datasets/RAVDESS/Actor_24\n",
      "There are 0 directories and 60 files in /home/amar/projects/audino/datasets/RAVDESS/Actor_19\n",
      "There are 0 directories and 60 files in /home/amar/projects/audino/datasets/RAVDESS/Actor_11\n",
      "There are 0 directories and 60 files in /home/amar/projects/audino/datasets/RAVDESS/Actor_10\n",
      "There are 0 directories and 60 files in /home/amar/projects/audino/datasets/RAVDESS/Actor_21\n",
      "There are 0 directories and 60 files in /home/amar/projects/audino/datasets/RAVDESS/Actor_04\n",
      "There are 0 directories and 60 files in /home/amar/projects/audino/datasets/RAVDESS/Actor_08\n",
      "There are 0 directories and 60 files in /home/amar/projects/audino/datasets/RAVDESS/Actor_01\n",
      "There are 0 directories and 60 files in /home/amar/projects/audino/datasets/RAVDESS/Actor_06\n",
      "There are 0 directories and 60 files in /home/amar/projects/audino/datasets/RAVDESS/Actor_09\n",
      "There are 0 directories and 60 files in /home/amar/projects/audino/datasets/RAVDESS/Actor_23\n",
      "There are 0 directories and 60 files in /home/amar/projects/audino/datasets/RAVDESS/Actor_20\n",
      "There are 0 directories and 60 files in /home/amar/projects/audino/datasets/RAVDESS/Actor_03\n",
      "There are 0 directories and 60 files in /home/amar/projects/audino/datasets/RAVDESS/Actor_16\n",
      "There are 0 directories and 60 files in /home/amar/projects/audino/datasets/RAVDESS/Actor_22\n",
      "There are 0 directories and 60 files in /home/amar/projects/audino/datasets/RAVDESS/Actor_15\n",
      "There are 0 directories and 7442 files in /home/amar/projects/audino/datasets/CREMA-D\n",
      "There are 14 directories and 0 files in /home/amar/projects/audino/datasets/TESS\n",
      "There are 0 directories and 200 files in /home/amar/projects/audino/datasets/TESS/OAF_disgust\n",
      "There are 0 directories and 200 files in /home/amar/projects/audino/datasets/TESS/YAF_fear\n",
      "There are 0 directories and 200 files in /home/amar/projects/audino/datasets/TESS/OAF_neutral\n",
      "There are 0 directories and 200 files in /home/amar/projects/audino/datasets/TESS/OAF_fear\n",
      "There are 0 directories and 200 files in /home/amar/projects/audino/datasets/TESS/OAF_happy\n",
      "There are 0 directories and 200 files in /home/amar/projects/audino/datasets/TESS/OAF_pleasant_surprise\n",
      "There are 0 directories and 200 files in /home/amar/projects/audino/datasets/TESS/YAF_happy\n",
      "There are 0 directories and 200 files in /home/amar/projects/audino/datasets/TESS/YAF_pleasant_surprise\n",
      "There are 0 directories and 200 files in /home/amar/projects/audino/datasets/TESS/OAF_sad\n",
      "There are 0 directories and 200 files in /home/amar/projects/audino/datasets/TESS/OAF_angry\n",
      "There are 0 directories and 200 files in /home/amar/projects/audino/datasets/TESS/YAF_sad\n",
      "There are 0 directories and 200 files in /home/amar/projects/audino/datasets/TESS/YAF_disgust\n",
      "There are 0 directories and 200 files in /home/amar/projects/audino/datasets/TESS/YAF_angry\n",
      "There are 0 directories and 200 files in /home/amar/projects/audino/datasets/TESS/YAF_neutral\n",
      "There are 4 directories and 1 files in /home/amar/projects/audino/datasets/SAVEE\n",
      "There are 0 directories and 120 files in /home/amar/projects/audino/datasets/SAVEE/JE\n",
      "There are 0 directories and 120 files in /home/amar/projects/audino/datasets/SAVEE/JK\n",
      "There are 0 directories and 120 files in /home/amar/projects/audino/datasets/SAVEE/KL\n",
      "There are 0 directories and 120 files in /home/amar/projects/audino/datasets/SAVEE/DC\n",
      "There are 0 directories and 0 files in /home/amar/projects/audino/datasets/processed\n"
     ]
    }
   ],
   "source": [
    "for dirpath, dirnames, filenames in os.walk(datasets_dir):\n",
    "    print(f'There are {len(dirnames)} directories and {len(filenames)} files in {dirpath}')"
   ]
  },
  {
   "cell_type": "code",
   "execution_count": 4,
   "metadata": {},
   "outputs": [
    {
     "name": "stdout",
     "output_type": "stream",
     "text": [
      "/home/amar/projects/audino/datasets/RAVDESS /home/amar/projects/audino/datasets/CREMA-D /home/amar/projects/audino/datasets/SAVEE /home/amar/projects/audino/datasets/TESS\n"
     ]
    }
   ],
   "source": [
    "# list out the datasets\n",
    "datasets = ['RAVDESS', 'CREMA-D', 'SAVEE', 'TESS']\n",
    "ravdess_dir = os.path.join(datasets_dir, datasets[0])\n",
    "crema_dir = os.path.join(datasets_dir, datasets[1])\n",
    "savee_dir = os.path.join(datasets_dir, datasets[2])\n",
    "tess_dir = os.path.join(datasets_dir, datasets[3])\n",
    "print(ravdess_dir, crema_dir, savee_dir, tess_dir)"
   ]
  },
  {
   "cell_type": "markdown",
   "metadata": {},
   "source": [
    "## RAVDESS"
   ]
  },
  {
   "cell_type": "code",
   "execution_count": 6,
   "metadata": {},
   "outputs": [
    {
     "name": "stdout",
     "output_type": "stream",
     "text": [
      "There are 24 directories and 0 files in /home/amar/projects/audino/datasets/RAVDESS\n",
      "There are 0 directories and 60 files in /home/amar/projects/audino/datasets/RAVDESS/Actor_13\n",
      "There are 0 directories and 60 files in /home/amar/projects/audino/datasets/RAVDESS/Actor_18\n",
      "There are 0 directories and 60 files in /home/amar/projects/audino/datasets/RAVDESS/Actor_07\n",
      "There are 0 directories and 60 files in /home/amar/projects/audino/datasets/RAVDESS/Actor_02\n",
      "There are 0 directories and 60 files in /home/amar/projects/audino/datasets/RAVDESS/Actor_05\n",
      "There are 0 directories and 60 files in /home/amar/projects/audino/datasets/RAVDESS/Actor_12\n",
      "There are 0 directories and 60 files in /home/amar/projects/audino/datasets/RAVDESS/Actor_14\n",
      "There are 0 directories and 60 files in /home/amar/projects/audino/datasets/RAVDESS/Actor_17\n",
      "There are 0 directories and 60 files in /home/amar/projects/audino/datasets/RAVDESS/Actor_24\n",
      "There are 0 directories and 60 files in /home/amar/projects/audino/datasets/RAVDESS/Actor_19\n",
      "There are 0 directories and 60 files in /home/amar/projects/audino/datasets/RAVDESS/Actor_11\n",
      "There are 0 directories and 60 files in /home/amar/projects/audino/datasets/RAVDESS/Actor_10\n",
      "There are 0 directories and 60 files in /home/amar/projects/audino/datasets/RAVDESS/Actor_21\n",
      "There are 0 directories and 60 files in /home/amar/projects/audino/datasets/RAVDESS/Actor_04\n",
      "There are 0 directories and 60 files in /home/amar/projects/audino/datasets/RAVDESS/Actor_08\n",
      "There are 0 directories and 60 files in /home/amar/projects/audino/datasets/RAVDESS/Actor_01\n",
      "There are 0 directories and 60 files in /home/amar/projects/audino/datasets/RAVDESS/Actor_06\n",
      "There are 0 directories and 60 files in /home/amar/projects/audino/datasets/RAVDESS/Actor_09\n",
      "There are 0 directories and 60 files in /home/amar/projects/audino/datasets/RAVDESS/Actor_23\n",
      "There are 0 directories and 60 files in /home/amar/projects/audino/datasets/RAVDESS/Actor_20\n",
      "There are 0 directories and 60 files in /home/amar/projects/audino/datasets/RAVDESS/Actor_03\n",
      "There are 0 directories and 60 files in /home/amar/projects/audino/datasets/RAVDESS/Actor_16\n",
      "There are 0 directories and 60 files in /home/amar/projects/audino/datasets/RAVDESS/Actor_22\n",
      "There are 0 directories and 60 files in /home/amar/projects/audino/datasets/RAVDESS/Actor_15\n"
     ]
    }
   ],
   "source": [
    "for dirpath, dirnames, filenames in os.walk(ravdess_dir):\n",
    "    print(f'There are {len(dirnames)} directories and {len(filenames)} files in {dirpath}')"
   ]
  },
  {
   "cell_type": "markdown",
   "metadata": {},
   "source": [
    "### Populating ravdess"
   ]
  },
  {
   "cell_type": "code",
   "execution_count": 5,
   "metadata": {},
   "outputs": [],
   "source": [
    "# filename breakdown\n",
    "emotions = {\n",
    "    '01': 'neutral', \n",
    "    '02': 'calm', \n",
    "    '03': 'happy', \n",
    "    '04': 'sad', \n",
    "    '05': 'angry', \n",
    "    '06': 'fear', \n",
    "    '07': 'disgust', \n",
    "    '08': 'surprised'\n",
    "}\n",
    "emotional_intensity = {\n",
    "    '01': 'medium', \n",
    "    '02': 'high'\n",
    "}\n",
    "statements = {\n",
    "    '01': 'Kids are talking by the door', \n",
    "    '02': 'Dogs are sitting by the door'\n",
    "}"
   ]
  },
  {
   "cell_type": "code",
   "execution_count": 6,
   "metadata": {},
   "outputs": [],
   "source": [
    "ravdess_rows = list()\n",
    "for dirpath, dirnames, filenames in os.walk(ravdess_dir):\n",
    "    if len(filenames) > 0:\n",
    "        for filename in filenames:\n",
    "            filename_breakdown = filename.split('-')\n",
    "            ravdess_row = dict()\n",
    "            ravdess_row['dataset_name'] = 'RAVDESS'\n",
    "            ravdess_row['gender'] = 'male' if int(filename_breakdown[-1][:2]) % 2 != 0 else 'female'\n",
    "            ravdess_row['emotion'] = emotions[filename_breakdown[2]]\n",
    "            ravdess_row['emotional_intensity'] = emotional_intensity[filename_breakdown[3]]\n",
    "            ravdess_row['text'] = statements[filename_breakdown[4]]\n",
    "            ravdess_row['audio_file_name'] = filename\n",
    "            ravdess_row['actor'] = 'ravdess_' + filename_breakdown[-1][:2]\n",
    "            ravdess_rows.append(ravdess_row)"
   ]
  },
  {
   "cell_type": "code",
   "execution_count": 7,
   "metadata": {},
   "outputs": [
    {
     "data": {
      "text/html": [
       "<div>\n",
       "<style scoped>\n",
       "    .dataframe tbody tr th:only-of-type {\n",
       "        vertical-align: middle;\n",
       "    }\n",
       "\n",
       "    .dataframe tbody tr th {\n",
       "        vertical-align: top;\n",
       "    }\n",
       "\n",
       "    .dataframe thead th {\n",
       "        text-align: right;\n",
       "    }\n",
       "</style>\n",
       "<table border=\"1\" class=\"dataframe\">\n",
       "  <thead>\n",
       "    <tr style=\"text-align: right;\">\n",
       "      <th></th>\n",
       "      <th>dataset_name</th>\n",
       "      <th>gender</th>\n",
       "      <th>emotion</th>\n",
       "      <th>emotional_intensity</th>\n",
       "      <th>text</th>\n",
       "      <th>audio_file_name</th>\n",
       "      <th>actor</th>\n",
       "    </tr>\n",
       "  </thead>\n",
       "  <tbody>\n",
       "    <tr>\n",
       "      <th>0</th>\n",
       "      <td>RAVDESS</td>\n",
       "      <td>male</td>\n",
       "      <td>sad</td>\n",
       "      <td>medium</td>\n",
       "      <td>Dogs are sitting by the door</td>\n",
       "      <td>03-01-04-01-02-02-13.wav</td>\n",
       "      <td>ravdess_13</td>\n",
       "    </tr>\n",
       "    <tr>\n",
       "      <th>1</th>\n",
       "      <td>RAVDESS</td>\n",
       "      <td>male</td>\n",
       "      <td>calm</td>\n",
       "      <td>medium</td>\n",
       "      <td>Dogs are sitting by the door</td>\n",
       "      <td>03-01-02-01-02-02-13.wav</td>\n",
       "      <td>ravdess_13</td>\n",
       "    </tr>\n",
       "    <tr>\n",
       "      <th>2</th>\n",
       "      <td>RAVDESS</td>\n",
       "      <td>male</td>\n",
       "      <td>sad</td>\n",
       "      <td>medium</td>\n",
       "      <td>Kids are talking by the door</td>\n",
       "      <td>03-01-04-01-01-01-13.wav</td>\n",
       "      <td>ravdess_13</td>\n",
       "    </tr>\n",
       "    <tr>\n",
       "      <th>3</th>\n",
       "      <td>RAVDESS</td>\n",
       "      <td>male</td>\n",
       "      <td>neutral</td>\n",
       "      <td>medium</td>\n",
       "      <td>Dogs are sitting by the door</td>\n",
       "      <td>03-01-01-01-02-02-13.wav</td>\n",
       "      <td>ravdess_13</td>\n",
       "    </tr>\n",
       "    <tr>\n",
       "      <th>4</th>\n",
       "      <td>RAVDESS</td>\n",
       "      <td>male</td>\n",
       "      <td>sad</td>\n",
       "      <td>high</td>\n",
       "      <td>Kids are talking by the door</td>\n",
       "      <td>03-01-04-02-01-02-13.wav</td>\n",
       "      <td>ravdess_13</td>\n",
       "    </tr>\n",
       "  </tbody>\n",
       "</table>\n",
       "</div>"
      ],
      "text/plain": [
       "  dataset_name gender  emotion emotional_intensity  \\\n",
       "0      RAVDESS   male      sad              medium   \n",
       "1      RAVDESS   male     calm              medium   \n",
       "2      RAVDESS   male      sad              medium   \n",
       "3      RAVDESS   male  neutral              medium   \n",
       "4      RAVDESS   male      sad                high   \n",
       "\n",
       "                           text           audio_file_name       actor  \n",
       "0  Dogs are sitting by the door  03-01-04-01-02-02-13.wav  ravdess_13  \n",
       "1  Dogs are sitting by the door  03-01-02-01-02-02-13.wav  ravdess_13  \n",
       "2  Kids are talking by the door  03-01-04-01-01-01-13.wav  ravdess_13  \n",
       "3  Dogs are sitting by the door  03-01-01-01-02-02-13.wav  ravdess_13  \n",
       "4  Kids are talking by the door  03-01-04-02-01-02-13.wav  ravdess_13  "
      ]
     },
     "execution_count": 7,
     "metadata": {},
     "output_type": "execute_result"
    }
   ],
   "source": [
    "ravdess_df = pd.DataFrame(ravdess_rows)\n",
    "ravdess_df.head()"
   ]
  },
  {
   "cell_type": "code",
   "execution_count": 8,
   "metadata": {},
   "outputs": [
    {
     "data": {
      "text/plain": [
       "(1440, 7)"
      ]
     },
     "execution_count": 8,
     "metadata": {},
     "output_type": "execute_result"
    }
   ],
   "source": [
    "ravdess_df.shape"
   ]
  },
  {
   "cell_type": "markdown",
   "metadata": {},
   "source": [
    "## TESS"
   ]
  },
  {
   "cell_type": "code",
   "execution_count": 11,
   "metadata": {},
   "outputs": [
    {
     "name": "stdout",
     "output_type": "stream",
     "text": [
      "There are 14 directories and 0 files in /home/amar/projects/audino/datasets/TESS\n",
      "There are 0 directories and 200 files in /home/amar/projects/audino/datasets/TESS/OAF_disgust\n",
      "There are 0 directories and 200 files in /home/amar/projects/audino/datasets/TESS/YAF_fear\n",
      "There are 0 directories and 200 files in /home/amar/projects/audino/datasets/TESS/OAF_neutral\n",
      "There are 0 directories and 200 files in /home/amar/projects/audino/datasets/TESS/OAF_fear\n",
      "There are 0 directories and 200 files in /home/amar/projects/audino/datasets/TESS/OAF_happy\n",
      "There are 0 directories and 200 files in /home/amar/projects/audino/datasets/TESS/OAF_pleasant_surprise\n",
      "There are 0 directories and 200 files in /home/amar/projects/audino/datasets/TESS/YAF_happy\n",
      "There are 0 directories and 200 files in /home/amar/projects/audino/datasets/TESS/YAF_pleasant_surprise\n",
      "There are 0 directories and 200 files in /home/amar/projects/audino/datasets/TESS/OAF_sad\n",
      "There are 0 directories and 200 files in /home/amar/projects/audino/datasets/TESS/OAF_angry\n",
      "There are 0 directories and 200 files in /home/amar/projects/audino/datasets/TESS/YAF_sad\n",
      "There are 0 directories and 200 files in /home/amar/projects/audino/datasets/TESS/YAF_disgust\n",
      "There are 0 directories and 200 files in /home/amar/projects/audino/datasets/TESS/YAF_angry\n",
      "There are 0 directories and 200 files in /home/amar/projects/audino/datasets/TESS/YAF_neutral\n"
     ]
    }
   ],
   "source": [
    "for dirpath, dirnames, filenames in os.walk(tess_dir):\n",
    "    print(f'There are {len(dirnames)} directories and {len(filenames)} files in {dirpath}')"
   ]
  },
  {
   "cell_type": "markdown",
   "metadata": {},
   "source": [
    "### Populating Tess"
   ]
  },
  {
   "cell_type": "code",
   "execution_count": 9,
   "metadata": {},
   "outputs": [],
   "source": [
    "# mapping\n",
    "speakers = {\n",
    "    'OAF': 'tess_old', \n",
    "    'YAF': 'tess_young'\n",
    "}\n",
    "emotions = {\n",
    "    'ps': 'surprised'\n",
    "}"
   ]
  },
  {
   "cell_type": "code",
   "execution_count": 10,
   "metadata": {},
   "outputs": [],
   "source": [
    "tess_rows = list()\n",
    "for dirpath, dirnames, filenames in os.walk(tess_dir):\n",
    "    if len(filenames) > 0:\n",
    "        for filename in filenames:\n",
    "            filename_breakdown = filename.split('_')\n",
    "            tess_row = dict()\n",
    "            tess_row['dataset_name'] = 'TESS'\n",
    "            tess_row['gender'] = 'female'\n",
    "            emotion = filename_breakdown[-1].split('.')[0]\n",
    "            tess_row['emotion'] = emotion if emotion != 'ps' else 'surprised'\n",
    "            tess_row['emotional_intensity'] = 'medium'\n",
    "            tess_row['text'] = 'say the word ' + filename_breakdown[1]\n",
    "            tess_row['audio_file_name'] = filename \n",
    "            tess_row['actor'] = 'tess_old' if filename_breakdown[0] == 'OAF' else 'tess_young'\n",
    "            tess_rows.append(tess_row)"
   ]
  },
  {
   "cell_type": "code",
   "execution_count": 11,
   "metadata": {},
   "outputs": [
    {
     "data": {
      "text/html": [
       "<div>\n",
       "<style scoped>\n",
       "    .dataframe tbody tr th:only-of-type {\n",
       "        vertical-align: middle;\n",
       "    }\n",
       "\n",
       "    .dataframe tbody tr th {\n",
       "        vertical-align: top;\n",
       "    }\n",
       "\n",
       "    .dataframe thead th {\n",
       "        text-align: right;\n",
       "    }\n",
       "</style>\n",
       "<table border=\"1\" class=\"dataframe\">\n",
       "  <thead>\n",
       "    <tr style=\"text-align: right;\">\n",
       "      <th></th>\n",
       "      <th>dataset_name</th>\n",
       "      <th>gender</th>\n",
       "      <th>emotion</th>\n",
       "      <th>emotional_intensity</th>\n",
       "      <th>text</th>\n",
       "      <th>audio_file_name</th>\n",
       "      <th>actor</th>\n",
       "    </tr>\n",
       "  </thead>\n",
       "  <tbody>\n",
       "    <tr>\n",
       "      <th>0</th>\n",
       "      <td>TESS</td>\n",
       "      <td>female</td>\n",
       "      <td>disgust</td>\n",
       "      <td>medium</td>\n",
       "      <td>say the word time</td>\n",
       "      <td>OAF_time_disgust.wav</td>\n",
       "      <td>tess_old</td>\n",
       "    </tr>\n",
       "    <tr>\n",
       "      <th>1</th>\n",
       "      <td>TESS</td>\n",
       "      <td>female</td>\n",
       "      <td>disgust</td>\n",
       "      <td>medium</td>\n",
       "      <td>say the word vote</td>\n",
       "      <td>OAF_vote_disgust.wav</td>\n",
       "      <td>tess_old</td>\n",
       "    </tr>\n",
       "    <tr>\n",
       "      <th>2</th>\n",
       "      <td>TESS</td>\n",
       "      <td>female</td>\n",
       "      <td>disgust</td>\n",
       "      <td>medium</td>\n",
       "      <td>say the word goal</td>\n",
       "      <td>OAF_goal_disgust.wav</td>\n",
       "      <td>tess_old</td>\n",
       "    </tr>\n",
       "    <tr>\n",
       "      <th>3</th>\n",
       "      <td>TESS</td>\n",
       "      <td>female</td>\n",
       "      <td>disgust</td>\n",
       "      <td>medium</td>\n",
       "      <td>say the word sell</td>\n",
       "      <td>OAF_sell_disgust.wav</td>\n",
       "      <td>tess_old</td>\n",
       "    </tr>\n",
       "    <tr>\n",
       "      <th>4</th>\n",
       "      <td>TESS</td>\n",
       "      <td>female</td>\n",
       "      <td>disgust</td>\n",
       "      <td>medium</td>\n",
       "      <td>say the word came</td>\n",
       "      <td>OAF_came_disgust.wav</td>\n",
       "      <td>tess_old</td>\n",
       "    </tr>\n",
       "  </tbody>\n",
       "</table>\n",
       "</div>"
      ],
      "text/plain": [
       "  dataset_name  gender  emotion emotional_intensity               text  \\\n",
       "0         TESS  female  disgust              medium  say the word time   \n",
       "1         TESS  female  disgust              medium  say the word vote   \n",
       "2         TESS  female  disgust              medium  say the word goal   \n",
       "3         TESS  female  disgust              medium  say the word sell   \n",
       "4         TESS  female  disgust              medium  say the word came   \n",
       "\n",
       "        audio_file_name     actor  \n",
       "0  OAF_time_disgust.wav  tess_old  \n",
       "1  OAF_vote_disgust.wav  tess_old  \n",
       "2  OAF_goal_disgust.wav  tess_old  \n",
       "3  OAF_sell_disgust.wav  tess_old  \n",
       "4  OAF_came_disgust.wav  tess_old  "
      ]
     },
     "execution_count": 11,
     "metadata": {},
     "output_type": "execute_result"
    }
   ],
   "source": [
    "tess_df = pd.DataFrame(tess_rows)\n",
    "tess_df.head()"
   ]
  },
  {
   "cell_type": "code",
   "execution_count": 12,
   "metadata": {},
   "outputs": [
    {
     "data": {
      "text/plain": [
       "(2800, 7)"
      ]
     },
     "execution_count": 12,
     "metadata": {},
     "output_type": "execute_result"
    }
   ],
   "source": [
    "tess_df.shape"
   ]
  },
  {
   "cell_type": "markdown",
   "metadata": {},
   "source": [
    "## SAVEE"
   ]
  },
  {
   "cell_type": "code",
   "execution_count": 85,
   "metadata": {},
   "outputs": [
    {
     "name": "stdout",
     "output_type": "stream",
     "text": [
      "There are 4 directories and 1 files in /home/amar/projects/audino/datasets/SAVEE\n",
      "There are 0 directories and 120 files in /home/amar/projects/audino/datasets/SAVEE/JE\n",
      "There are 0 directories and 120 files in /home/amar/projects/audino/datasets/SAVEE/JK\n",
      "There are 0 directories and 120 files in /home/amar/projects/audino/datasets/SAVEE/KL\n",
      "There are 0 directories and 120 files in /home/amar/projects/audino/datasets/SAVEE/DC\n"
     ]
    }
   ],
   "source": [
    "for dirpath, dirnames, filenames in os.walk(savee_dir):\n",
    "    print(f'There are {len(dirnames)} directories and {len(filenames)} files in {dirpath}')"
   ]
  },
  {
   "cell_type": "markdown",
   "metadata": {},
   "source": [
    "### Populating savee"
   ]
  },
  {
   "cell_type": "code",
   "execution_count": 88,
   "metadata": {},
   "outputs": [
    {
     "name": "stdout",
     "output_type": "stream",
     "text": [
      "h08.wav\n",
      "h08.wav\n",
      "h08.wav\n",
      "h08.wav\n"
     ]
    }
   ],
   "source": [
    "savee_rows = list()\n",
    "for dirpath, dirnames, filenames in os.walk(savee_dir):\n",
    "    if len(filenames) > 0:\n",
    "        for filename in filenames:\n",
    "            if 'Info' in filename:\n",
    "                continue\n",
    "            else:\n",
    "                print(filename)\n",
    "                break"
   ]
  },
  {
   "cell_type": "code",
   "execution_count": null,
   "metadata": {},
   "outputs": [],
   "source": [
    "# Skipping savee for now as text is too complicated"
   ]
  },
  {
   "cell_type": "markdown",
   "metadata": {},
   "source": [
    "## Crema-d"
   ]
  },
  {
   "cell_type": "code",
   "execution_count": 15,
   "metadata": {},
   "outputs": [
    {
     "name": "stdout",
     "output_type": "stream",
     "text": [
      "['1070', 'TIE', 'SAD', 'XX.wav']\n",
      "['1054', 'DFA', 'FEA', 'XX.wav']\n",
      "['1033', 'ITS', 'SAD', 'XX.wav']\n",
      "['1025', 'WSI', 'HAP', 'XX.wav']\n",
      "['1081', 'TIE', 'FEA', 'XX.wav']\n"
     ]
    }
   ],
   "source": [
    "i = 0\n",
    "for dirpath, dirnames, filenames in os.walk(crema_dir):\n",
    "    for filename in filenames:\n",
    "        if i == 5:\n",
    "            break\n",
    "        print(filename.split('_'))\n",
    "        i += 1"
   ]
  },
  {
   "cell_type": "markdown",
   "metadata": {},
   "source": [
    "### Populating crema"
   ]
  },
  {
   "cell_type": "code",
   "execution_count": 13,
   "metadata": {},
   "outputs": [],
   "source": [
    "# mapping\n",
    "crema_emotions_map = {\n",
    "    'SAD': 'sad',\n",
    "    'FEA': 'fear', \n",
    "    'HAP': 'happy', \n",
    "    'ANG': 'angry', \n",
    "    'DIS': 'disgust', \n",
    "    'NEU': 'neutral'\n",
    "}\n",
    "emotional_intensity_crema_map = {\n",
    "    'HI': 'high', \n",
    "    'LO': 'low', \n",
    "    'MD': 'medium', \n",
    "    'XX': 'unknown'\n",
    "}\n",
    "sentence_map = {\n",
    "    'DFA': \"Don't forget a jacket\", \n",
    "    'IEO': \"It's eleven'o clock\", \n",
    "    'IOM': 'I am on my way to the meeting', \n",
    "    'ITH': \"I think i have a doctor's appointment\", \n",
    "    'ITS': 'I think i have seen this before', \n",
    "    'IWL': 'I would like a new alarm clock', \n",
    "    'IWW': 'I wonder what this is about', \n",
    "    'MTI': 'Maybe tomorrow it will be cold', \n",
    "    'TAI': 'The airplane is almost full', \n",
    "    'TIE': 'That is exactly what happened', \n",
    "    'TSI': 'The surface is slick', \n",
    "    'WSI': 'Will stop in a couple of minutes'\n",
    "}\n",
    "male = set([1,5,11,14,15,16,17,19,22,23,26,27,31,32,33,34,35,36,38,39,40,41,42,44,45,48,50,51,57,59,62,64,65,66,67,68,69,70,71,77,80,81,83,85,86,87,88,90])\n",
    "female = set(range(1,92)) - male"
   ]
  },
  {
   "cell_type": "code",
   "execution_count": 14,
   "metadata": {},
   "outputs": [
    {
     "data": {
      "text/html": [
       "<div>\n",
       "<style scoped>\n",
       "    .dataframe tbody tr th:only-of-type {\n",
       "        vertical-align: middle;\n",
       "    }\n",
       "\n",
       "    .dataframe tbody tr th {\n",
       "        vertical-align: top;\n",
       "    }\n",
       "\n",
       "    .dataframe thead th {\n",
       "        text-align: right;\n",
       "    }\n",
       "</style>\n",
       "<table border=\"1\" class=\"dataframe\">\n",
       "  <thead>\n",
       "    <tr style=\"text-align: right;\">\n",
       "      <th></th>\n",
       "      <th>dataset_name</th>\n",
       "      <th>gender</th>\n",
       "      <th>emotion</th>\n",
       "      <th>emotional_intensity</th>\n",
       "      <th>text</th>\n",
       "      <th>audio_file_name</th>\n",
       "      <th>actor</th>\n",
       "    </tr>\n",
       "  </thead>\n",
       "  <tbody>\n",
       "    <tr>\n",
       "      <th>0</th>\n",
       "      <td>CREMA</td>\n",
       "      <td>male</td>\n",
       "      <td>sad</td>\n",
       "      <td>unknown</td>\n",
       "      <td>That is exactly what happened</td>\n",
       "      <td>1070_TIE_SAD_XX.wav</td>\n",
       "      <td>crema_70</td>\n",
       "    </tr>\n",
       "    <tr>\n",
       "      <th>1</th>\n",
       "      <td>CREMA</td>\n",
       "      <td>female</td>\n",
       "      <td>fear</td>\n",
       "      <td>unknown</td>\n",
       "      <td>Don't forget a jacket</td>\n",
       "      <td>1054_DFA_FEA_XX.wav</td>\n",
       "      <td>crema_54</td>\n",
       "    </tr>\n",
       "    <tr>\n",
       "      <th>2</th>\n",
       "      <td>CREMA</td>\n",
       "      <td>male</td>\n",
       "      <td>sad</td>\n",
       "      <td>unknown</td>\n",
       "      <td>I think i have seen this before</td>\n",
       "      <td>1033_ITS_SAD_XX.wav</td>\n",
       "      <td>crema_33</td>\n",
       "    </tr>\n",
       "    <tr>\n",
       "      <th>3</th>\n",
       "      <td>CREMA</td>\n",
       "      <td>female</td>\n",
       "      <td>happy</td>\n",
       "      <td>unknown</td>\n",
       "      <td>Will stop in a couple of minutes</td>\n",
       "      <td>1025_WSI_HAP_XX.wav</td>\n",
       "      <td>crema_25</td>\n",
       "    </tr>\n",
       "    <tr>\n",
       "      <th>4</th>\n",
       "      <td>CREMA</td>\n",
       "      <td>male</td>\n",
       "      <td>fear</td>\n",
       "      <td>unknown</td>\n",
       "      <td>That is exactly what happened</td>\n",
       "      <td>1081_TIE_FEA_XX.wav</td>\n",
       "      <td>crema_81</td>\n",
       "    </tr>\n",
       "  </tbody>\n",
       "</table>\n",
       "</div>"
      ],
      "text/plain": [
       "  dataset_name  gender emotion emotional_intensity  \\\n",
       "0        CREMA    male     sad             unknown   \n",
       "1        CREMA  female    fear             unknown   \n",
       "2        CREMA    male     sad             unknown   \n",
       "3        CREMA  female   happy             unknown   \n",
       "4        CREMA    male    fear             unknown   \n",
       "\n",
       "                               text      audio_file_name     actor  \n",
       "0     That is exactly what happened  1070_TIE_SAD_XX.wav  crema_70  \n",
       "1             Don't forget a jacket  1054_DFA_FEA_XX.wav  crema_54  \n",
       "2   I think i have seen this before  1033_ITS_SAD_XX.wav  crema_33  \n",
       "3  Will stop in a couple of minutes  1025_WSI_HAP_XX.wav  crema_25  \n",
       "4     That is exactly what happened  1081_TIE_FEA_XX.wav  crema_81  "
      ]
     },
     "execution_count": 14,
     "metadata": {},
     "output_type": "execute_result"
    }
   ],
   "source": [
    "crema_rows = list()\n",
    "for dirpath, dirnames, filenames in os.walk(crema_dir):\n",
    "    for filename in filenames:\n",
    "        filename_breakdown = filename.split('_')\n",
    "        crema_row = dict()\n",
    "        crema_row['dataset_name'] = 'CREMA'\n",
    "        crema_row['gender'] = 'male' if int(filename_breakdown[0][2:]) in male else 'female'\n",
    "        crema_row['emotion'] = crema_emotions_map[filename_breakdown[2]] \n",
    "        crema_row['emotional_intensity'] = emotional_intensity_crema_map[filename_breakdown[-1][:2]]\n",
    "        crema_row['text'] = sentence_map[filename_breakdown[1]]\n",
    "        crema_row['audio_file_name'] = filename\n",
    "        crema_row['actor'] = 'crema_' + filename_breakdown[0][2:]\n",
    "        crema_rows.append(crema_row)\n",
    "\n",
    "crema_df = pd.DataFrame(crema_rows)\n",
    "crema_df.head()"
   ]
  },
  {
   "cell_type": "markdown",
   "metadata": {},
   "source": [
    "# Final dataframe"
   ]
  },
  {
   "cell_type": "code",
   "execution_count": 15,
   "metadata": {},
   "outputs": [
    {
     "data": {
      "text/html": [
       "<div>\n",
       "<style scoped>\n",
       "    .dataframe tbody tr th:only-of-type {\n",
       "        vertical-align: middle;\n",
       "    }\n",
       "\n",
       "    .dataframe tbody tr th {\n",
       "        vertical-align: top;\n",
       "    }\n",
       "\n",
       "    .dataframe thead th {\n",
       "        text-align: right;\n",
       "    }\n",
       "</style>\n",
       "<table border=\"1\" class=\"dataframe\">\n",
       "  <thead>\n",
       "    <tr style=\"text-align: right;\">\n",
       "      <th></th>\n",
       "      <th>dataset_name</th>\n",
       "      <th>gender</th>\n",
       "      <th>emotion</th>\n",
       "      <th>emotional_intensity</th>\n",
       "      <th>text</th>\n",
       "      <th>audio_file_name</th>\n",
       "      <th>actor</th>\n",
       "    </tr>\n",
       "  </thead>\n",
       "  <tbody>\n",
       "    <tr>\n",
       "      <th>0</th>\n",
       "      <td>RAVDESS</td>\n",
       "      <td>male</td>\n",
       "      <td>sad</td>\n",
       "      <td>medium</td>\n",
       "      <td>Dogs are sitting by the door</td>\n",
       "      <td>03-01-04-01-02-02-13.wav</td>\n",
       "      <td>ravdess_13</td>\n",
       "    </tr>\n",
       "    <tr>\n",
       "      <th>1</th>\n",
       "      <td>RAVDESS</td>\n",
       "      <td>male</td>\n",
       "      <td>calm</td>\n",
       "      <td>medium</td>\n",
       "      <td>Dogs are sitting by the door</td>\n",
       "      <td>03-01-02-01-02-02-13.wav</td>\n",
       "      <td>ravdess_13</td>\n",
       "    </tr>\n",
       "    <tr>\n",
       "      <th>2</th>\n",
       "      <td>RAVDESS</td>\n",
       "      <td>male</td>\n",
       "      <td>sad</td>\n",
       "      <td>medium</td>\n",
       "      <td>Kids are talking by the door</td>\n",
       "      <td>03-01-04-01-01-01-13.wav</td>\n",
       "      <td>ravdess_13</td>\n",
       "    </tr>\n",
       "    <tr>\n",
       "      <th>3</th>\n",
       "      <td>RAVDESS</td>\n",
       "      <td>male</td>\n",
       "      <td>neutral</td>\n",
       "      <td>medium</td>\n",
       "      <td>Dogs are sitting by the door</td>\n",
       "      <td>03-01-01-01-02-02-13.wav</td>\n",
       "      <td>ravdess_13</td>\n",
       "    </tr>\n",
       "    <tr>\n",
       "      <th>4</th>\n",
       "      <td>RAVDESS</td>\n",
       "      <td>male</td>\n",
       "      <td>sad</td>\n",
       "      <td>high</td>\n",
       "      <td>Kids are talking by the door</td>\n",
       "      <td>03-01-04-02-01-02-13.wav</td>\n",
       "      <td>ravdess_13</td>\n",
       "    </tr>\n",
       "  </tbody>\n",
       "</table>\n",
       "</div>"
      ],
      "text/plain": [
       "  dataset_name gender  emotion emotional_intensity  \\\n",
       "0      RAVDESS   male      sad              medium   \n",
       "1      RAVDESS   male     calm              medium   \n",
       "2      RAVDESS   male      sad              medium   \n",
       "3      RAVDESS   male  neutral              medium   \n",
       "4      RAVDESS   male      sad                high   \n",
       "\n",
       "                           text           audio_file_name       actor  \n",
       "0  Dogs are sitting by the door  03-01-04-01-02-02-13.wav  ravdess_13  \n",
       "1  Dogs are sitting by the door  03-01-02-01-02-02-13.wav  ravdess_13  \n",
       "2  Kids are talking by the door  03-01-04-01-01-01-13.wav  ravdess_13  \n",
       "3  Dogs are sitting by the door  03-01-01-01-02-02-13.wav  ravdess_13  \n",
       "4  Kids are talking by the door  03-01-04-02-01-02-13.wav  ravdess_13  "
      ]
     },
     "execution_count": 15,
     "metadata": {},
     "output_type": "execute_result"
    }
   ],
   "source": [
    "full_df = pd.concat([ravdess_df, tess_df, crema_df])\n",
    "full_df.head()"
   ]
  },
  {
   "cell_type": "code",
   "execution_count": 16,
   "metadata": {},
   "outputs": [
    {
     "data": {
      "text/plain": [
       "(11682, 7)"
      ]
     },
     "execution_count": 16,
     "metadata": {},
     "output_type": "execute_result"
    }
   ],
   "source": [
    "full_df.shape"
   ]
  },
  {
   "cell_type": "code",
   "execution_count": 19,
   "metadata": {},
   "outputs": [],
   "source": [
    "## Save to a csv file\n",
    "processed_data_path = os.path.join(paths_dict['datasets_dir'], 'processed', 'full_df.csv')\n",
    "full_df.to_csv(processed_data_path, index=False)"
   ]
  }
 ],
 "metadata": {
  "interpreter": {
   "hash": "d0794e55eb06a81ddefb28a1c87f0f62207be250b0d705fe7dc45216952d1399"
  },
  "kernelspec": {
   "display_name": "Python 3.8.11 64-bit (conda)",
   "name": "python3"
  },
  "language_info": {
   "codemirror_mode": {
    "name": "ipython",
    "version": 3
   },
   "file_extension": ".py",
   "mimetype": "text/x-python",
   "name": "python",
   "nbconvert_exporter": "python",
   "pygments_lexer": "ipython3",
   "version": "3.8.11"
  },
  "orig_nbformat": 4
 },
 "nbformat": 4,
 "nbformat_minor": 2
}
